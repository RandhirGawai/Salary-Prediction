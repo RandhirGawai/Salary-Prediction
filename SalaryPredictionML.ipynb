{
  "cells": [
    {
      "cell_type": "code",
      "execution_count": 14,
      "metadata": {
        "id": "JAji5lt7RQ2v"
      },
      "outputs": [],
      "source": [
        "import pandas as pd\n",
        "\n"
      ]
    },
    {
      "attachments": {},
      "cell_type": "markdown",
      "metadata": {
        "id": "wnyD_9C0Xqif"
      },
      "source": [
        "Read the dataset"
      ]
    },
    {
      "cell_type": "code",
      "execution_count": 15,
      "metadata": {
        "id": "k5gD9QuZRbwl"
      },
      "outputs": [],
      "source": [
        "ds=pd.read_csv('F:/Project/salary prediction/salary_predict_dataset.csv')\n"
      ]
    },
    {
      "cell_type": "code",
      "execution_count": 16,
      "metadata": {
        "colab": {
          "base_uri": "https://localhost:8080/",
          "height": 206
        },
        "id": "PROvXv-XXwL4",
        "outputId": "5801bd65-26e1-4ee5-943b-63caf7b872ce"
      },
      "outputs": [
        {
          "data": {
            "text/html": [
              "<div>\n",
              "<style scoped>\n",
              "    .dataframe tbody tr th:only-of-type {\n",
              "        vertical-align: middle;\n",
              "    }\n",
              "\n",
              "    .dataframe tbody tr th {\n",
              "        vertical-align: top;\n",
              "    }\n",
              "\n",
              "    .dataframe thead th {\n",
              "        text-align: right;\n",
              "    }\n",
              "</style>\n",
              "<table border=\"1\" class=\"dataframe\">\n",
              "  <thead>\n",
              "    <tr style=\"text-align: right;\">\n",
              "      <th></th>\n",
              "      <th>experience</th>\n",
              "      <th>cgpa</th>\n",
              "      <th>Age</th>\n",
              "      <th>Interview_score</th>\n",
              "      <th>Salary</th>\n",
              "    </tr>\n",
              "  </thead>\n",
              "  <tbody>\n",
              "    <tr>\n",
              "      <th>0</th>\n",
              "      <td>1.1</td>\n",
              "      <td>8</td>\n",
              "      <td>22</td>\n",
              "      <td>75</td>\n",
              "      <td>39343</td>\n",
              "    </tr>\n",
              "    <tr>\n",
              "      <th>1</th>\n",
              "      <td>1.3</td>\n",
              "      <td>7</td>\n",
              "      <td>23</td>\n",
              "      <td>74</td>\n",
              "      <td>46205</td>\n",
              "    </tr>\n",
              "    <tr>\n",
              "      <th>2</th>\n",
              "      <td>1.5</td>\n",
              "      <td>6</td>\n",
              "      <td>22</td>\n",
              "      <td>76</td>\n",
              "      <td>37731</td>\n",
              "    </tr>\n",
              "    <tr>\n",
              "      <th>3</th>\n",
              "      <td>2.0</td>\n",
              "      <td>8</td>\n",
              "      <td>24</td>\n",
              "      <td>78</td>\n",
              "      <td>43525</td>\n",
              "    </tr>\n",
              "    <tr>\n",
              "      <th>4</th>\n",
              "      <td>2.2</td>\n",
              "      <td>6</td>\n",
              "      <td>28</td>\n",
              "      <td>84</td>\n",
              "      <td>39881</td>\n",
              "    </tr>\n",
              "  </tbody>\n",
              "</table>\n",
              "</div>"
            ],
            "text/plain": [
              "   experience  cgpa  Age  Interview_score  Salary\n",
              "0         1.1     8   22               75   39343\n",
              "1         1.3     7   23               74   46205\n",
              "2         1.5     6   22               76   37731\n",
              "3         2.0     8   24               78   43525\n",
              "4         2.2     6   28               84   39881"
            ]
          },
          "execution_count": 16,
          "metadata": {},
          "output_type": "execute_result"
        }
      ],
      "source": [
        "ds.head()"
      ]
    },
    {
      "cell_type": "code",
      "execution_count": 17,
      "metadata": {
        "colab": {
          "base_uri": "https://localhost:8080/"
        },
        "id": "DyQXtiLHY-VL",
        "outputId": "9a601d5b-d310-43b7-d6d0-74ed4ddc39d5"
      },
      "outputs": [
        {
          "data": {
            "text/plain": [
              "experience         0\n",
              "cgpa               0\n",
              "Age                0\n",
              "Interview_score    0\n",
              "Salary             0\n",
              "dtype: int64"
            ]
          },
          "execution_count": 17,
          "metadata": {},
          "output_type": "execute_result"
        }
      ],
      "source": [
        "ds.isnull().sum()"
      ]
    },
    {
      "cell_type": "code",
      "execution_count": 18,
      "metadata": {
        "id": "kH65O0XgTkwU"
      },
      "outputs": [],
      "source": [
        "x=ds.iloc[:,:-1].values\n",
        "y=ds.iloc[:,4:].values"
      ]
    },
    {
      "cell_type": "code",
      "execution_count": 19,
      "metadata": {
        "colab": {
          "base_uri": "https://localhost:8080/"
        },
        "id": "xofDY0UvXaIN",
        "outputId": "d88160d8-cd84-4411-ec8c-91becd203f72"
      },
      "outputs": [
        {
          "data": {
            "text/plain": [
              "array([[ 1.1,  8. , 22. , 75. ],\n",
              "       [ 1.3,  7. , 23. , 74. ],\n",
              "       [ 1.5,  6. , 22. , 76. ],\n",
              "       [ 2. ,  8. , 24. , 78. ],\n",
              "       [ 2.2,  6. , 28. , 84. ],\n",
              "       [ 2.9,  7. , 24. , 85. ],\n",
              "       [ 3.2,  8. , 26. , 79. ],\n",
              "       [ 3.2,  8. , 27. , 77. ],\n",
              "       [ 3.7,  9. , 22. , 73. ],\n",
              "       [ 3.9,  7. , 24. , 71. ],\n",
              "       [ 4. ,  8. , 28. , 85. ],\n",
              "       [ 4. ,  5. , 24. , 86. ],\n",
              "       [ 4.1,  6. , 26. , 99. ],\n",
              "       [ 4.5,  7. , 24. , 84. ],\n",
              "       [ 4.9,  8. , 27. , 75. ],\n",
              "       [ 5.1,  7. , 24. , 46. ],\n",
              "       [ 5.3,  6. , 25. , 75. ],\n",
              "       [ 5.9,  9. , 21. , 78. ],\n",
              "       [ 6. ,  7. , 27. , 95. ],\n",
              "       [ 6.8,  8. , 29. , 63. ],\n",
              "       [ 7.1,  5. , 28. , 79. ],\n",
              "       [ 7.9,  7. , 30. , 88. ],\n",
              "       [ 8.2,  6. , 31. , 81. ],\n",
              "       [ 8.7,  3. , 29. , 87. ],\n",
              "       [ 9. ,  7. , 36. , 86. ],\n",
              "       [ 9.5,  5. , 34. , 84. ],\n",
              "       [ 9.6,  4. , 38. , 79. ],\n",
              "       [10.3,  9. , 40. , 73. ],\n",
              "       [10.5,  4. , 39. , 75. ]])"
            ]
          },
          "execution_count": 19,
          "metadata": {},
          "output_type": "execute_result"
        }
      ],
      "source": [
        "x"
      ]
    },
    {
      "cell_type": "code",
      "execution_count": 20,
      "metadata": {
        "colab": {
          "base_uri": "https://localhost:8080/"
        },
        "id": "_PkonCt6eznr",
        "outputId": "c0eaeee6-da22-4c18-a1ea-98909bbdc914"
      },
      "outputs": [
        {
          "data": {
            "text/plain": [
              "array([[ 39343],\n",
              "       [ 46205],\n",
              "       [ 37731],\n",
              "       [ 43525],\n",
              "       [ 39881],\n",
              "       [ 56642],\n",
              "       [ 60150],\n",
              "       [ 54445],\n",
              "       [ 64445],\n",
              "       [ 57189],\n",
              "       [ 63218],\n",
              "       [ 55789],\n",
              "       [ 56954],\n",
              "       [ 57081],\n",
              "       [ 61111],\n",
              "       [ 67938],\n",
              "       [ 66029],\n",
              "       [ 83022],\n",
              "       [ 81363],\n",
              "       [ 93940],\n",
              "       [ 91738],\n",
              "       [ 98724],\n",
              "       [101302],\n",
              "       [113338],\n",
              "       [109431],\n",
              "       [105582],\n",
              "       [116945],\n",
              "       [122391],\n",
              "       [121872]], dtype=int64)"
            ]
          },
          "execution_count": 20,
          "metadata": {},
          "output_type": "execute_result"
        }
      ],
      "source": [
        "y"
      ]
    },
    {
      "cell_type": "code",
      "execution_count": 21,
      "metadata": {
        "id": "zip-fGjMUHlr"
      },
      "outputs": [],
      "source": [
        "from sklearn.model_selection import train_test_split\n",
        "x_train,x_test,y_train,y_test=train_test_split(x,y,test_size=1/3,random_state=0)\n",
        "\n"
      ]
    },
    {
      "cell_type": "code",
      "execution_count": 22,
      "metadata": {
        "colab": {
          "base_uri": "https://localhost:8080/",
          "height": 74
        },
        "id": "AJwrLVttUqQz",
        "outputId": "d9a79e80-23df-40a4-b7fc-d1571caa1b91"
      },
      "outputs": [
        {
          "data": {
            "text/plain": [
              "LinearRegression()"
            ]
          },
          "execution_count": 22,
          "metadata": {},
          "output_type": "execute_result"
        }
      ],
      "source": [
        "from sklearn.linear_model import LinearRegression\n",
        "regression=LinearRegression()\n",
        "regression.fit(ds[['experience','cgpa','Age','Interview_score']],ds.Salary)\n"
      ]
    },
    {
      "cell_type": "code",
      "execution_count": 23,
      "metadata": {
        "colab": {
          "base_uri": "https://localhost:8080/"
        },
        "id": "e8c6YzGAmu6R",
        "outputId": "e93871bc-9c03-4e18-86e5-68fa4d6b68af"
      },
      "outputs": [
        {
          "name": "stderr",
          "output_type": "stream",
          "text": [
            "c:\\Users\\user\\AppData\\Local\\Programs\\Python\\Python37\\lib\\site-packages\\sklearn\\base.py:451: UserWarning: X does not have valid feature names, but LinearRegression was fitted with feature names\n",
            "  \"X does not have valid feature names, but\"\n",
            "c:\\Users\\user\\AppData\\Local\\Programs\\Python\\Python37\\lib\\site-packages\\sklearn\\base.py:451: UserWarning: X does not have valid feature names, but LinearRegression was fitted with feature names\n",
            "  \"X does not have valid feature names, but\"\n"
          ]
        }
      ],
      "source": [
        "y_pred=regression.predict(x_test)\n",
        "x_pred=regression.predict(x_train)\n"
      ]
    },
    {
      "cell_type": "code",
      "execution_count": 28,
      "metadata": {
        "colab": {
          "base_uri": "https://localhost:8080/"
        },
        "id": "NNiKTwSk1zUN",
        "outputId": "187f820b-ad39-496b-8930-5e6e2dae368b"
      },
      "outputs": [
        {
          "name": "stderr",
          "output_type": "stream",
          "text": [
            "c:\\Users\\user\\AppData\\Local\\Programs\\Python\\Python37\\lib\\site-packages\\sklearn\\base.py:451: UserWarning: X does not have valid feature names, but LinearRegression was fitted with feature names\n",
            "  \"X does not have valid feature names, but\"\n"
          ]
        },
        {
          "data": {
            "text/plain": [
              "array([31812.12329274])"
            ]
          },
          "execution_count": 28,
          "metadata": {},
          "output_type": "execute_result"
        }
      ],
      "source": [
        "regression.predict([[1.1,2,22,75]])"
      ]
    },
    {
      "cell_type": "code",
      "execution_count": 30,
      "metadata": {},
      "outputs": [],
      "source": [
        "import pickle\n",
        "pickle.dump(regression,open('model.pkl','wb'))"
      ]
    }
  ],
  "metadata": {
    "colab": {
      "provenance": []
    },
    "kernelspec": {
      "display_name": "Python 3",
      "name": "python3"
    },
    "language_info": {
      "codemirror_mode": {
        "name": "ipython",
        "version": 3
      },
      "file_extension": ".py",
      "mimetype": "text/x-python",
      "name": "python",
      "nbconvert_exporter": "python",
      "pygments_lexer": "ipython3",
      "version": "3.7.3"
    }
  },
  "nbformat": 4,
  "nbformat_minor": 0
}
